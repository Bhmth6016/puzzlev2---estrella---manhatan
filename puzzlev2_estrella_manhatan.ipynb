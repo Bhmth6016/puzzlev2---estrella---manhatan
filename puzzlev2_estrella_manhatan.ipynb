{
  "cells": [
    {
      "cell_type": "code",
      "execution_count": null,
      "metadata": {
        "id": "pTpFcOtfn5i-"
      },
      "outputs": [],
      "source": [
        "from collections import deque\n",
        "import time\n",
        "import heapq\n"
      ]
    },
    {
      "cell_type": "markdown",
      "metadata": {
        "id": "7YRSGaTvobm_"
      },
      "source": [
        "# **Importacion de herramientas.**\n",
        "\n",
        "\n",
        "Se importaron las librerias time heapq y se agrego tambien del modulo collections se importa deque.\n",
        "\n",
        "time es una libreria que se usa para cronometrar un tiempo dentro del codigo, en nuestro codigo se uso para poder hacer la comparativa de tiempo.\n",
        "heapq es una libreria que se usa para\n",
        "collections es un nodo que se usa para\n",
        "deque es una libreria que se usa para"
      ]
    },
    {
      "cell_type": "code",
      "execution_count": null,
      "metadata": {
        "id": "9eujutGOpjJH"
      },
      "outputs": [],
      "source": [
        "class Node():\n",
        "    def __init__(self, state, parent, action, depth):\n",
        "        self.state = state\n",
        "        self.parent = parent\n",
        "        self.action = action\n",
        "        self.depth = depth\n",
        "\n",
        "    def __str__(self):\n",
        "        return f\"Estado: {self.state}, Acción: {self.action}, Profundidad: {self.depth}\"\n",
        "\n",
        "    def print_state(self):\n",
        "        for i in range(0, 9, 3):\n",
        "            print(self.state[i], self.state[i+1], self.state[i+2])\n",
        "        print()"
      ]
    },
    {
      "cell_type": "markdown",
      "metadata": {
        "id": "eYaMea9jp9eG"
      },
      "source": [
        "definimos la clase nodo en la cual tomamos el estado actual del puezzle, los nodos padres, al aciones posible y la profundidad conforme"
      ]
    },
    {
      "cell_type": "code",
      "execution_count": null,
      "metadata": {},
      "outputs": [],
      "source": [
        "\n",
        "class AStarNode(Node):\n",
        "    def __init__(self, state, parent, action, depth, cost):\n",
        "        super().__init__(state, parent, action, depth)\n",
        "        self.cost = cost\n",
        "        \n",
        "    def __lt__(self, other):\n",
        "        return self.cost < other.cost"
      ]
    },
    {
      "cell_type": "markdown",
      "metadata": {},
      "source": [
        "sa"
      ]
    },
    {
      "cell_type": "code",
      "execution_count": null,
      "metadata": {},
      "outputs": [],
      "source": []
    },
    {
      "cell_type": "markdown",
      "metadata": {},
      "source": [
        "sa"
      ]
    },
    {
      "cell_type": "code",
      "execution_count": null,
      "metadata": {},
      "outputs": [],
      "source": [
        "\n",
        "def main():\n",
        "    #initial_state = (1, 2, 3, 4, 5, 6, 7, 0, 8) #facil\n",
        "    #initial_state = (8, 6, 7, 2, 5, 4, 3, 0, 1) #dificil\n",
        "    initial_state = (0, 1, 2, 3, 5, 6, 4, 7, 8)\n",
        "    goal_state = (1, 2, 3, 4, 5, 6, 7, 8, 0)\n",
        "    \n",
        "    print(\"Resolviendo con BFS...\")\n",
        "    bfs_solver = PuzzleSolver(initial_state, goal_state)\n",
        "    bfs_result = bfs_solver.bfs_solve()\n",
        "    bfs_solver.print_solution()\n",
        "    \n",
        "    print(\"\\nResolviendo con DFS...\")\n",
        "    dfs_solver = PuzzleSolver(initial_state, goal_state)\n",
        "    dfs_result = dfs_solver.dfs_solve()\n",
        "    dfs_solver.print_solution()\n",
        "    \n",
        "    print(\"\\nResolviendo con A* (Manhattan)...\")\n",
        "    astar_solver = PuzzleSolver(initial_state, goal_state)\n",
        "    astar_result = astar_solver.astar_solve()\n",
        "    astar_solver.print_solution()\n",
        "    \n",
        "    print(\"\\nComparación:\")\n",
        "    print(f\"{'Métrica':<20} {'BFS':<15} {'DFS':<15} {'A*':<15}\")\n",
        "    print(f\"{'Tiempo (s)':<20} {bfs_result['time']:<15.4f} {dfs_result['time']:<15.4f} {astar_result['time']:<15.4f}\")\n",
        "    print(f\"{'Nodos expandidos':<20} {bfs_result['nodes_expanded']:<15} {dfs_result['nodes_expanded']:<15} {astar_result['nodes_expanded']:<15}\")\n",
        "    print(f\"{'Longitud solución':<20} {bfs_result['solution_length']:<15} {dfs_result['solution_length']:<15} {astar_result['solution_length']:<15}\")\n",
        "    print(f\"{'Profundidad máxima':<20} {bfs_result['max_depth']:<15} {dfs_result['max_depth']:<15} {astar_result['max_depth']:<15}\")\n"
      ]
    },
    {
      "cell_type": "markdown",
      "metadata": {},
      "source": [
        "sams"
      ]
    }
  ],
  "metadata": {
    "colab": {
      "provenance": []
    },
    "kernelspec": {
      "display_name": "Python 3",
      "name": "python3"
    },
    "language_info": {
      "name": "python"
    }
  },
  "nbformat": 4,
  "nbformat_minor": 0
}
