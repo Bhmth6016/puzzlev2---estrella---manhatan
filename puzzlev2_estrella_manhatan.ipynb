{
  "nbformat": 4,
  "nbformat_minor": 0,
  "metadata": {
    "colab": {
      "provenance": []
    },
    "kernelspec": {
      "name": "python3",
      "display_name": "Python 3"
    },
    "language_info": {
      "name": "python"
    }
  },
  "cells": [
    {
      "cell_type": "code",
      "execution_count": null,
      "metadata": {
        "id": "pTpFcOtfn5i-"
      },
      "outputs": [],
      "source": [
        "from collections import deque\n",
        "import time\n",
        "import heapq\n"
      ]
    },
    {
      "cell_type": "markdown",
      "source": [
        "# **Importacion de herramientas.**\n",
        "\n",
        "\n",
        "Se importaron las librerias time heapq y se agrego tambien del modulo collections se importa deque.\n",
        "\n",
        "time es una libreria que se usa para cronometrar un tiempo dentro del codigo, en nuestro codigo se uso para poder hacer la comparativa de tiempo.\n",
        "heapq es una libreria que se usa para\n",
        "collections es un nodo que se usa para\n",
        "deque es una libreria que se usa para"
      ],
      "metadata": {
        "id": "7YRSGaTvobm_"
      }
    },
    {
      "cell_type": "code",
      "source": [
        "class Node():\n",
        "    def __init__(self, state, parent, action, depth):\n",
        "        self.state = state\n",
        "        self.parent = parent\n",
        "        self.action = action\n",
        "        self.depth = depth\n",
        "\n",
        "    def __str__(self):\n",
        "        return f\"Estado: {self.state}, Acción: {self.action}, Profundidad: {self.depth}\"\n",
        "\n",
        "    def print_state(self):\n",
        "        for i in range(0, 9, 3):\n",
        "            print(self.state[i], self.state[i+1], self.state[i+2])\n",
        "        print()"
      ],
      "metadata": {
        "id": "9eujutGOpjJH"
      },
      "execution_count": null,
      "outputs": []
    },
    {
      "cell_type": "markdown",
      "source": [
        "definimos la clase nodo en la cual tomamos el estado actual del puezzle, los nodos padres, al aciones posible y la profundidad conforme"
      ],
      "metadata": {
        "id": "eYaMea9jp9eG"
      }
    }
  ]
}